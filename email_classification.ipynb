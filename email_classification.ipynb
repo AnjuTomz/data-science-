{
  "nbformat": 4,
  "nbformat_minor": 0,
  "metadata": {
    "colab": {
      "provenance": []
    },
    "kernelspec": {
      "name": "python3",
      "display_name": "Python 3"
    },
    "language_info": {
      "name": "python"
    }
  },
  "cells": [
    {
      "cell_type": "markdown",
      "source": [
        "Email Classification (Ham-Spam)\n",
        "\n",
        "https://www.kaggle.com/datasets/prishasawhney/email-classification-ham-spam\n",
        "\n"
      ],
      "metadata": {
        "id": "rVGoHL81q5lk"
      }
    },
    {
      "cell_type": "code",
      "execution_count": 28,
      "metadata": {
        "id": "tW--C1HmL8qM"
      },
      "outputs": [],
      "source": [
        "import pandas as pd\n",
        "import nltk\n",
        "from sklearn.preprocessing import LabelEncoder\n",
        "from nltk.corpus import stopwords\n",
        "from nltk.stem import PorterStemmer\n",
        "from nltk.tokenize import word_tokenize\n",
        "import re\n",
        "import string\n",
        "from sklearn.feature_extraction.text import TfidfVectorizer\n",
        "from sklearn.model_selection import train_test_split\n",
        "from sklearn.linear_model import LogisticRegression\n",
        "from sklearn.metrics import classification_report\n",
        "from sklearn.metrics import classification_report, confusion_matrix\n",
        "import seaborn as sns\n",
        "import matplotlib.pyplot as plt\n"
      ]
    },
    {
      "cell_type": "code",
      "source": [],
      "metadata": {
        "id": "F17gCEyAT6Wq"
      },
      "execution_count": null,
      "outputs": []
    },
    {
      "cell_type": "code",
      "execution_count": 2,
      "metadata": {
        "colab": {
          "base_uri": "https://localhost:8080/",
          "height": 1000
        },
        "id": "MQzN3X-qAK04",
        "outputId": "db46d37a-6b17-4505-8855-da0073dba6b5"
      },
      "outputs": [
        {
          "output_type": "display_data",
          "data": {
            "text/plain": [
              "<IPython.core.display.HTML object>"
            ],
            "text/html": [
              "\n",
              "     <input type=\"file\" id=\"files-2a21bcbe-d617-434e-9159-6862d2c6e68f\" name=\"files[]\" multiple disabled\n",
              "        style=\"border:none\" />\n",
              "     <output id=\"result-2a21bcbe-d617-434e-9159-6862d2c6e68f\">\n",
              "      Upload widget is only available when the cell has been executed in the\n",
              "      current browser session. Please rerun this cell to enable.\n",
              "      </output>\n",
              "      <script>// Copyright 2017 Google LLC\n",
              "//\n",
              "// Licensed under the Apache License, Version 2.0 (the \"License\");\n",
              "// you may not use this file except in compliance with the License.\n",
              "// You may obtain a copy of the License at\n",
              "//\n",
              "//      http://www.apache.org/licenses/LICENSE-2.0\n",
              "//\n",
              "// Unless required by applicable law or agreed to in writing, software\n",
              "// distributed under the License is distributed on an \"AS IS\" BASIS,\n",
              "// WITHOUT WARRANTIES OR CONDITIONS OF ANY KIND, either express or implied.\n",
              "// See the License for the specific language governing permissions and\n",
              "// limitations under the License.\n",
              "\n",
              "/**\n",
              " * @fileoverview Helpers for google.colab Python module.\n",
              " */\n",
              "(function(scope) {\n",
              "function span(text, styleAttributes = {}) {\n",
              "  const element = document.createElement('span');\n",
              "  element.textContent = text;\n",
              "  for (const key of Object.keys(styleAttributes)) {\n",
              "    element.style[key] = styleAttributes[key];\n",
              "  }\n",
              "  return element;\n",
              "}\n",
              "\n",
              "// Max number of bytes which will be uploaded at a time.\n",
              "const MAX_PAYLOAD_SIZE = 100 * 1024;\n",
              "\n",
              "function _uploadFiles(inputId, outputId) {\n",
              "  const steps = uploadFilesStep(inputId, outputId);\n",
              "  const outputElement = document.getElementById(outputId);\n",
              "  // Cache steps on the outputElement to make it available for the next call\n",
              "  // to uploadFilesContinue from Python.\n",
              "  outputElement.steps = steps;\n",
              "\n",
              "  return _uploadFilesContinue(outputId);\n",
              "}\n",
              "\n",
              "// This is roughly an async generator (not supported in the browser yet),\n",
              "// where there are multiple asynchronous steps and the Python side is going\n",
              "// to poll for completion of each step.\n",
              "// This uses a Promise to block the python side on completion of each step,\n",
              "// then passes the result of the previous step as the input to the next step.\n",
              "function _uploadFilesContinue(outputId) {\n",
              "  const outputElement = document.getElementById(outputId);\n",
              "  const steps = outputElement.steps;\n",
              "\n",
              "  const next = steps.next(outputElement.lastPromiseValue);\n",
              "  return Promise.resolve(next.value.promise).then((value) => {\n",
              "    // Cache the last promise value to make it available to the next\n",
              "    // step of the generator.\n",
              "    outputElement.lastPromiseValue = value;\n",
              "    return next.value.response;\n",
              "  });\n",
              "}\n",
              "\n",
              "/**\n",
              " * Generator function which is called between each async step of the upload\n",
              " * process.\n",
              " * @param {string} inputId Element ID of the input file picker element.\n",
              " * @param {string} outputId Element ID of the output display.\n",
              " * @return {!Iterable<!Object>} Iterable of next steps.\n",
              " */\n",
              "function* uploadFilesStep(inputId, outputId) {\n",
              "  const inputElement = document.getElementById(inputId);\n",
              "  inputElement.disabled = false;\n",
              "\n",
              "  const outputElement = document.getElementById(outputId);\n",
              "  outputElement.innerHTML = '';\n",
              "\n",
              "  const pickedPromise = new Promise((resolve) => {\n",
              "    inputElement.addEventListener('change', (e) => {\n",
              "      resolve(e.target.files);\n",
              "    });\n",
              "  });\n",
              "\n",
              "  const cancel = document.createElement('button');\n",
              "  inputElement.parentElement.appendChild(cancel);\n",
              "  cancel.textContent = 'Cancel upload';\n",
              "  const cancelPromise = new Promise((resolve) => {\n",
              "    cancel.onclick = () => {\n",
              "      resolve(null);\n",
              "    };\n",
              "  });\n",
              "\n",
              "  // Wait for the user to pick the files.\n",
              "  const files = yield {\n",
              "    promise: Promise.race([pickedPromise, cancelPromise]),\n",
              "    response: {\n",
              "      action: 'starting',\n",
              "    }\n",
              "  };\n",
              "\n",
              "  cancel.remove();\n",
              "\n",
              "  // Disable the input element since further picks are not allowed.\n",
              "  inputElement.disabled = true;\n",
              "\n",
              "  if (!files) {\n",
              "    return {\n",
              "      response: {\n",
              "        action: 'complete',\n",
              "      }\n",
              "    };\n",
              "  }\n",
              "\n",
              "  for (const file of files) {\n",
              "    const li = document.createElement('li');\n",
              "    li.append(span(file.name, {fontWeight: 'bold'}));\n",
              "    li.append(span(\n",
              "        `(${file.type || 'n/a'}) - ${file.size} bytes, ` +\n",
              "        `last modified: ${\n",
              "            file.lastModifiedDate ? file.lastModifiedDate.toLocaleDateString() :\n",
              "                                    'n/a'} - `));\n",
              "    const percent = span('0% done');\n",
              "    li.appendChild(percent);\n",
              "\n",
              "    outputElement.appendChild(li);\n",
              "\n",
              "    const fileDataPromise = new Promise((resolve) => {\n",
              "      const reader = new FileReader();\n",
              "      reader.onload = (e) => {\n",
              "        resolve(e.target.result);\n",
              "      };\n",
              "      reader.readAsArrayBuffer(file);\n",
              "    });\n",
              "    // Wait for the data to be ready.\n",
              "    let fileData = yield {\n",
              "      promise: fileDataPromise,\n",
              "      response: {\n",
              "        action: 'continue',\n",
              "      }\n",
              "    };\n",
              "\n",
              "    // Use a chunked sending to avoid message size limits. See b/62115660.\n",
              "    let position = 0;\n",
              "    do {\n",
              "      const length = Math.min(fileData.byteLength - position, MAX_PAYLOAD_SIZE);\n",
              "      const chunk = new Uint8Array(fileData, position, length);\n",
              "      position += length;\n",
              "\n",
              "      const base64 = btoa(String.fromCharCode.apply(null, chunk));\n",
              "      yield {\n",
              "        response: {\n",
              "          action: 'append',\n",
              "          file: file.name,\n",
              "          data: base64,\n",
              "        },\n",
              "      };\n",
              "\n",
              "      let percentDone = fileData.byteLength === 0 ?\n",
              "          100 :\n",
              "          Math.round((position / fileData.byteLength) * 100);\n",
              "      percent.textContent = `${percentDone}% done`;\n",
              "\n",
              "    } while (position < fileData.byteLength);\n",
              "  }\n",
              "\n",
              "  // All done.\n",
              "  yield {\n",
              "    response: {\n",
              "      action: 'complete',\n",
              "    }\n",
              "  };\n",
              "}\n",
              "\n",
              "scope.google = scope.google || {};\n",
              "scope.google.colab = scope.google.colab || {};\n",
              "scope.google.colab._files = {\n",
              "  _uploadFiles,\n",
              "  _uploadFilesContinue,\n",
              "};\n",
              "})(self);\n",
              "</script> "
            ]
          },
          "metadata": {}
        },
        {
          "output_type": "stream",
          "name": "stdout",
          "text": [
            "Saving email_classification.csv to email_classification.csv\n"
          ]
        },
        {
          "output_type": "execute_result",
          "data": {
            "text/plain": [
              "{'email_classification.csv': b'email,label\\r\\nUpgrade to our premium plan for exclusive access to premium content and features.,ham\\r\\nHappy holidays from our team! Wishing you joy and prosperity this season.,ham\\r\\nWe\\'re hiring! Check out our career opportunities and join our dynamic team.,ham\\r\\nYour Amazon account has been locked. Click here to verify your account information.,spam\\r\\nYour opinion matters! Take our survey and help us enhance your experience.,ham\\r\\nYour payment has been received. Thank you for your prompt transaction.,ham\\r\\nYour email account storage is full. Click here to upgrade your account.,spam\\r\\n\"Dear [Name], thank you for subscribing to our newsletter. Here\\'s your welcome gift!\",ham\\r\\nYour account has been credited with loyalty points. Redeem them for exciting rewards!,ham\\r\\nYou\\'ve been chosen for a free iPhone. Click here to claim your prize!,spam\\r\\nDon\\'t miss out on our special offer! Sign up now and get a discount on your first purchase.,ham\\r\\nWe\\'re hiring interns for the summer. Apply now and gain valuable experience.,ham\\r\\nYou\\'re pre-approved for a loan. Click here to apply now!,spam\\r\\nWe\\'re thrilled to introduce our new collection. Shop now and enjoy exclusive discounts!,ham\\r\\nWe\\'re excited to announce our upcoming webinar series. Register now to reserve your spot!,ham\\r\\nWe\\'ve added new features to our app based on your feedback. Update now!,ham\\r\\nYou\\'re a winner! Click here to claim your exclusive prize.,spam\\r\\nYour Facebook account has been hacked. Click here to secure your account.,spam\\r\\nCongratulations on reaching a new milestone! Here\\'s to many more achievements.,ham\\r\\nCongratulations! You\\'ve been selected for a job interview. Click here to schedule your interview.,spam\\r\\nYour account has been suspended due to suspicious activity. Click here to unlock your account.,spam\\r\\nGet ready for our flash sale! Limited-time offers on your favorite products.,ham\\r\\nThank you for your feedback. We\\'re always striving to improve our services.,ham\\r\\nYour PayPal account has been suspended. Click here to restore your account access.,spam\\r\\nYou\\'ve won a luxury car! Click here to claim your prize.,spam\\r\\nWe\\'ve extended our sale for one more day! Don\\'t miss your chance to save big.,ham\\r\\nYour account has been flagged for suspicious activity. Click here to verify your identity.,spam\\r\\nWe\\'re sorry for the inconvenience. Our website will be back online shortly.,ham\\r\\nThank you for your recent purchase. Here\\'s a special offer for you.,ham\\r\\nGet instant cash now! Click here to access our quick loan service.,spam\\r\\nWe\\'re here to help you with any questions or concerns you may have.,ham\\r\\nYour account has been banned. Click here to appeal the ban.,spam\\r\\nCongratulations! You\\'ve won a free vacation to a tropical paradise! Claim now!,spam\\r\\nYour account has been pre-approved for a credit card. Click here to apply now!,spam\\r\\nWe\\'re sorry to see you go. Let us know if there\\'s anything we can do to improve.,ham\\r\\nYou\\'ve been selected for a free trial of our premium membership. Click here to sign up!,spam\\r\\nYou\\'ve been selected for a free trial of our premium service. Click here to activate now!,spam\\r\\nWe\\'re committed to sustainability. Learn more about our eco-friendly initiatives.,ham\\r\\nWe\\'re hiring! Check out our careers page for current job openings.,ham\\r\\nWe\\'re sorry for the inconvenience. Our website will be undergoing maintenance tonight.,ham\\r\\nYour account has been credited with bonus points. Use them to unlock exclusive rewards!,ham\\r\\nWe appreciate your business. Here\\'s a token of our appreciation.,ham\\r\\nWe value your feedback. Share your thoughts with us.,ham\\r\\nThank you for your loyalty. Here\\'s a special discount code as a token of our appreciation.,ham\\r\\nThank you for your purchase. Your order will be delivered within the next few days.,ham\\r\\nYour account has been hacked. Click here to reset your password.,spam\\r\\nGet ready for our annual sale! Big savings await you.,ham\\r\\nYou\\'ve been selected for a free iPhone X. Click here to claim your prize!,spam\\r\\nCongratulations! You\\'ve won a free trip to Europe. Click here to claim your prize!,spam\\r\\nThis is to inform you about the schedule change for tomorrow\\'s meeting. Please take note.,ham\\r\\nYou\\'ve been selected for a special prize. Click here to claim your reward!,spam\\r\\nYou\\'ve been selected for a free trial of our premium service. Click here to activate now!,spam\\r\\nYou\\'ve been selected for a free trial of our premium service. Click here to activate now!,spam\\r\\nUpgrade to our premium membership for exclusive benefits and personalized recommendations.,ham\\r\\nYou\\'ve won a luxury car! Click here to claim your prize.,spam\\r\\nWe\\'ve updated our app with new features. Update now for an enhanced user experience.,ham\\r\\nYour opinion matters! Take our survey and get a chance to win exciting prizes.,ham\\r\\nGet instant cash now! Click here to access our quick loan service.,spam\\r\\nWe\\'re excited to announce our latest product release. Check it out!,ham\\r\\nYour computer has been infected with a virus. Click here to download our antivirus software.,spam\\r\\nYour account has been pre-approved for a credit card. Click here to apply now!,spam\\r\\nYour subscription renewal is due. Don\\'t forget to update your payment information.,ham\\r\\nGet rich quick! Click here to join our exclusive investment program.,spam\\r\\nDon\\'t miss out on our limited-time offer. Shop now and save.,ham\\r\\nWe value your privacy. Review our updated privacy policy for more information.,ham\\r\\nYou\\'ve been selected for a free iPhone X. Click here to claim your prize!,spam\\r\\nYour account has been compromised. Click here to secure your account.,spam\\r\\nCongratulations! You\\'re our lucky winner of the day. Click here to claim your prize!,spam\\r\\nWe\\'re hosting a webinar next week. Register now to secure your spot!,ham\\r\\nYour order has been successfully processed. It will be shipped out today.,ham\\r\\nWe\\'re experiencing high call volumes. You can reach us faster by using our online chat.,ham\\r\\nYour Netflix subscription has expired. Click here to renew now!,spam\\r\\nGood morning! Attached is the report you requested. Have a great day!,ham\\r\\nThank you for attending our workshop. Here are the presentation slides for your reference.,ham\\r\\nWe\\'re excited to share our latest product updates with you. Check them out now!,ham\\r\\nAct fast! Limited-time offer on designer handbags. Click here to shop now!,spam\\r\\nClaim your prize now! Click here to confirm your winnings.,spam\\r\\nJust a friendly reminder to renew your subscription before it expires.,ham\\r\\nAct now! Limited-time offer on luxury watches. Click here to buy now!,spam\\r\\nCongratulations! You\\'re the lucky winner of our holiday giveaway. Click here to claim your prize!,spam\\r\\nThank you for your inquiry. We appreciate your interest in our products.,ham\\r\\nGet rich overnight! Click here to learn our secret money-making method.,spam\\r\\nYour satisfaction is our priority. Let us know how we can serve you better.,ham\\r\\nThank you for your patience. Our technical team has resolved the issue. Happy browsing!,ham\\r\\n\"Dear [Name], your account subscription has expired. Renew now to continue enjoying our services.\",ham\\r\\nURGENT: Your account has been compromised. Click here to reset your password immediately.,spam\\r\\nYour annual membership has been renewed. Enjoy another year of exclusive benefits.,ham\\r\\nWe\\'re excited to share our latest blog post with you. Check it out for valuable insights.,ham\\r\\nYour account has been banned. Click here to appeal the ban.,spam\\r\\nYou\\'ve won a luxury cruise! Click here to claim your tickets.,spam\\r\\nWe\\'ve detected unusual activity on your account. Secure it by changing your password.,ham\\r\\nYour package is out for delivery. Track your shipment using the link provided.,ham\\r\\nYou\\'ve won a shopping spree! Click here to claim your voucher.,spam\\r\\nYour account has been upgraded to VIP status. Enjoy enhanced benefits and privileges.,ham\\r\\nThank you for subscribing to our newsletter. Here\\'s a special offer just for you!,ham\\r\\nOur team is here to help you. Contact us anytime for assistance.,ham\\r\\nStay connected with us! Follow our social media channels for the latest updates.,ham\\r\\nYour account has been hacked. Click here to reset your password.,spam\\r\\nStay informed with our latest blog posts. Subscribe to our newsletter today.,ham\\r\\nYour account has been credited with bonus points. Click here to redeem your rewards.,spam\\r\\nCongratulations! You\\'re the winner of our daily giveaway. Click here to claim your reward!,spam\\r\\nYour PayPal account has been locked. Click here to restore your account access.,spam\\r\\nYour trial period has ended. Upgrade to a premium plan for unlimited access.,ham\\r\\nStay connected with our latest updates. Follow us on social media.,ham\\r\\nCongratulations! You\\'ve been selected for a free trial of our premium software. Click here to download now!,spam\\r\\nCongratulations! You\\'ve been selected for a free trial of our premium software. Click here to download now!,spam\\r\\nYour order is confirmed. You\\'ll receive a confirmation email shortly with the details.,ham\\r\\nWe\\'re committed to providing excellent service. Your feedback helps us improve.,ham\\r\\n\"Dear [Name], your account has been upgraded to premium status. Enjoy the perks!\",ham\\r\\nYour feedback matters to us. Take our survey and help us serve you better.,ham\\r\\nCongratulations! You\\'re the winner of our daily giveaway. Click here to claim your reward!,spam\\r\\nClaim your prize now! Click here to confirm your winnings.,spam\\r\\nStay in the loop with our newsletter. Subscribe now for the latest news and updates.,ham\\r\\nYou\\'ve been selected for a free trial of our premium service. Click here to activate now!,spam\\r\\nGet exclusive access to our VIP club. Click here to join now!,spam\\r\\nYou\\'re our lucky winner! Click here to claim your jackpot prize.,spam\\r\\nYour bank account has been suspended. Click here to verify your account details.,spam\\r\\nWe\\'re here to help! Contact our customer support team for assistance.,ham\\r\\nWe\\'re excited to announce our new product launch. Check it out on our website!,ham\\r\\nUnlock exclusive discounts! Click here to join our loyalty program.,spam\\r\\n\"Dear valued customer, here\\'s a special discount code for your next purchase: XYZ123.\",ham\\r\\nGet rich overnight! Click here to learn our secret money-making method.,spam\\r\\nWe\\'re excited to announce our partnership with [Company]. Stay tuned for exciting collaborations!,ham\\r\\nWe\\'ve reached a milestone! Thank you for being part of our journey.,ham\\r\\n\"We\\'re pleased to announce our partnership with [Company]. Together, we\\'ll achieve great things!\",ham\\r\\nWe\\'re hosting a giveaway on our social media channels. Follow us for a chance to win!,ham\\r\\nWe\\'ve launched a new feature based on user feedback. Try it out and let us know what you think!,ham\\r\\nWe\\'ve upgraded our servers for faster performance. Enjoy smoother browsing!,ham\\r\\nCongratulations on your recent achievement! Keep up the great work!,ham\\r\\nClaim your inheritance now! Click here to access your funds.,spam\\r\\nWe\\'re committed to your satisfaction. Let us know how we can improve.,ham\\r\\nWe\\'re excited to share our latest updates with you. Stay tuned for more news!,ham\\r\\nCongratulations! You\\'re the lucky winner of our holiday giveaway. Click here to claim your prize!,spam\\r\\nYou\\'re invited to a special event. Click here to RSVP now!,spam\\r\\nThank you for your loyalty. Here\\'s a special discount for being a valued customer.,ham\\r\\nWe hope you\\'re enjoying your subscription. Let us know if you have any questions.,ham\\r\\n\"Dear [Name], your account balance is now updated. Please review the details.\",ham\\r\\nWe\\'re celebrating our anniversary! Join us for special offers and giveaways all week long.,ham\\r\\nYour email account storage is full. Click here to upgrade your account.,spam\\r\\nYou\\'re invited to a special event. Click here to RSVP now!,spam\\r\\nWe\\'re here to assist you. Contact our support team if you need any help.,ham\\r\\nDon\\'t miss our end-of-season sale! Grab your favorite items at discounted prices.,ham\\r\\nYour account has been credited with bonus points. Click here to redeem your rewards.,spam\\r\\nYour Facebook account has been hacked. Click here to secure your account.,spam\\r\\nYour account has been flagged for suspicious activity. Click here to verify your identity.,spam\\r\\nYou\\'ve won a shopping spree! Click here to claim your voucher.,spam\\r\\nWe\\'re extending our sale for one more day due to popular demand. Don\\'t miss out!,ham\\r\\nWe\\'re hosting a live Q&A session tomorrow. Submit your questions in advance!,ham\\r\\nYou\\'ve won a lottery! Click here to claim your million-dollar prize!,spam\\r\\nCongratulations on your recent purchase! Here\\'s a voucher for your next order.,ham\\r\\nGet rich quick! Click here to join our exclusive investment program.,spam\\r\\nYour account has been credited with bonus points for your recent purchase. Enjoy!,ham\\r\\nGet ready for our annual sale! Huge discounts on a wide range of products.,ham\\r\\nWe\\'re sorry for the inconvenience. Our technical team is working on resolving the issue.,ham\\r\\n\"Your account login was successful. If this wasn\\'t you, please contact us immediately.\",ham\\r\\n\"We\\'re thrilled to announce our partnership with [Organization]. Together, we\\'ll make a difference!\",ham\\r\\nYour account has been suspended due to suspicious activity. Click here to unlock your account.,spam\\r\\nYour Netflix subscription has expired. Click here to renew now!,spam\\r\\nWe\\'re experiencing technical difficulties. Our team is working to resolve the issue ASAP.,ham\\r\\nAct fast! Limited-time offer on designer handbags. Click here to shop now!,spam\\r\\nYou\\'ve won a luxury cruise! Click here to claim your tickets.,spam\\r\\nHello! Just wanted to remind you about our upcoming event. Don\\'t miss it!,ham\\r\\nYour account password has been reset successfully. Please login with the new password.,ham\\r\\nYou\\'ve won a shopping spree! Click here to claim your voucher.,spam\\r\\nUnlock exclusive discounts! Click here to join our loyalty program.,spam\\r\\nAct fast! Limited-time offer on luxury watches. Click here to buy now!,spam\\r\\nMake money fast! Join our affiliate program and start earning cash today!,spam\\r\\nCongratulations! You\\'ve been selected for a special offer. Enjoy!,ham\\r\\nYour credit card has been charged for unauthorized purchases. Click here to dispute the charges.,spam\\r\\nCongratulations on your recent purchase! Here\\'s a special offer for your next order.,ham\\r\\nYour account has been credited with bonus points for your continued support. Thank you!,ham\\r\\nYou\\'ve been chosen for a free iPhone. Click here to claim your prize!,spam\\r\\nCongratulations! You\\'ve won a free trip to Europe. Click here to claim your prize!,spam\\r\\nIntroducing our loyalty program. Earn points with every purchase and redeem rewards!,ham\\r\\nWe\\'re pleased to inform you that your refund has been processed successfully.,ham\\r\\nGet rich quick! Invest in our revolutionary new scheme and retire early!,spam\\r\\nYour free trial period is ending soon. Upgrade now to continue enjoying our services.,ham\\r\\nYour order is on its way! Track your shipment for real-time updates.,ham\\r\\nLimited-time offer! Get 50% off on all purchases today only. Don\\'t miss out!,spam\\r\\n'}"
            ]
          },
          "metadata": {},
          "execution_count": 2
        }
      ],
      "source": [
        "#Write your code here\n",
        "from google.colab import files\n",
        "files.upload()\n"
      ]
    },
    {
      "cell_type": "code",
      "source": [
        "data=pd.read_csv(open('email_classification.csv',))"
      ],
      "metadata": {
        "id": "x39D3QPWUXRX"
      },
      "execution_count": 3,
      "outputs": []
    },
    {
      "cell_type": "markdown",
      "source": [
        "# **`Data Pre-processing`**"
      ],
      "metadata": {
        "id": "Qb5zxzzJxvVq"
      }
    },
    {
      "cell_type": "code",
      "source": [
        "\n",
        "print(data.head())\n",
        "print(data.tail())\n",
        "print('Shape of the DataFrame:', data.shape)# shape of the DataFrame\n",
        "print('Column names:', data.columns.tolist())# column names of the DataFrame\n",
        "print(data.dtypes)# data types of each column\n",
        "print(data.info())\n",
        "\n",
        "print(data.describe())# statistical summary for numerical columns\n",
        "print(data['label'].value_counts())# Display the count of 'Ham' and 'Spam' in the 'Label' column\n",
        "\n"
      ],
      "metadata": {
        "colab": {
          "base_uri": "https://localhost:8080/"
        },
        "id": "iRpeNyl4WBcF",
        "outputId": "7673b2bd-f53b-429a-a330-a494c3511306"
      },
      "execution_count": 24,
      "outputs": [
        {
          "output_type": "stream",
          "name": "stdout",
          "text": [
            "                                               email  label\n",
            "0  upgrad premium plan exclu access premium conte...      0\n",
            "1         happi holiday team wish joy prosper season      0\n",
            "2         hire check career opportun join dynam team      0\n",
            "3    amazon account lock click verifi account inform      1\n",
            "4   opinion matter take survey help us enhanc experi      0\n",
            "                                                 email  label\n",
            "174                 plea inform refund process success      0\n",
            "175  get rich quick invest revolutionari new scheme...      1\n",
            "176  free trial period end soon upgrad continu enjo...      0\n",
            "177           order way track shipment real time updat      0\n",
            "178          limit time offer get 50 purcha today miss      1\n",
            "Shape of the DataFrame: (179, 2)\n",
            "Column names: ['email', 'label']\n",
            "email    object\n",
            "label     int64\n",
            "dtype: object\n",
            "<class 'pandas.core.frame.DataFrame'>\n",
            "RangeIndex: 179 entries, 0 to 178\n",
            "Data columns (total 2 columns):\n",
            " #   Column  Non-Null Count  Dtype \n",
            "---  ------  --------------  ----- \n",
            " 0   email   179 non-null    object\n",
            " 1   label   179 non-null    int64 \n",
            "dtypes: int64(1), object(1)\n",
            "memory usage: 2.9+ KB\n",
            "None\n",
            "            label\n",
            "count  179.000000\n",
            "mean     0.441341\n",
            "std      0.497940\n",
            "min      0.000000\n",
            "25%      0.000000\n",
            "50%      0.000000\n",
            "75%      1.000000\n",
            "max      1.000000\n",
            "label\n",
            "0    100\n",
            "1     79\n",
            "Name: count, dtype: int64\n"
          ]
        }
      ]
    },
    {
      "cell_type": "code",
      "source": [
        "# Check for missing values\n",
        "print(data.isnull().sum())\n",
        "\n",
        "\n"
      ],
      "metadata": {
        "colab": {
          "base_uri": "https://localhost:8080/"
        },
        "id": "_KAatyp0YqD5",
        "outputId": "5c521b92-171b-414a-fab7-ca57cd394928"
      },
      "execution_count": 25,
      "outputs": [
        {
          "output_type": "stream",
          "name": "stdout",
          "text": [
            "email    0\n",
            "label    0\n",
            "dtype: int64\n"
          ]
        }
      ]
    },
    {
      "cell_type": "code",
      "source": [
        "le = LabelEncoder()\n",
        "data['label'] = le.fit_transform(data['label'])# Fit and transform the 'label' column\n",
        "print(data.head())\n"
      ],
      "metadata": {
        "colab": {
          "base_uri": "https://localhost:8080/"
        },
        "id": "RViNWJDwgWgH",
        "outputId": "d56fdd9d-ede2-4b8c-bfd3-51f1be04e40c"
      },
      "execution_count": 5,
      "outputs": [
        {
          "output_type": "stream",
          "name": "stdout",
          "text": [
            "                                               email  label\n",
            "0  Upgrade to our premium plan for exclusive acce...      0\n",
            "1  Happy holidays from our team! Wishing you joy ...      0\n",
            "2  We're hiring! Check out our career opportuniti...      0\n",
            "3  Your Amazon account has been locked. Click her...      1\n",
            "4  Your opinion matters! Take our survey and help...      0\n"
          ]
        }
      ]
    },
    {
      "cell_type": "markdown",
      "source": [
        "The ‘0’ represents ‘Ham’ (non-spam) and ‘1’ represents ‘Spam’."
      ],
      "metadata": {
        "id": "EyQcR_2rgqPJ"
      }
    },
    {
      "cell_type": "code",
      "source": [
        "nltk.download('punkt')\n",
        "nltk.download('stopwords')#download the NLTK English stopwords and tokenizer\n",
        "\n",
        "# Initialize a Porter stemmer\n",
        "stemmer = PorterStemmer()\n",
        "def preprocess_text(text):\n",
        "\n",
        "    text = text.lower() # Convert to lowercase\n",
        "    text = re.sub(r'\\W', ' ', text)# Remove punctuation and non-alphanumeric characters\n",
        "    text = re.sub(r'\\s+', ' ', text)# Replace multiple spaces with a single space\n",
        "    words = word_tokenize(text) # Tokenize the text\n",
        "    words = [stemmer.stem(word) for word in words if word not in stopwords.words('english')]# Remove stopwords and stem the words\n",
        "    text = ' '.join(words) # Join the words back into a single string\n",
        "    return text\n",
        "data['email'] = data['email'].apply(preprocess_text)# Apply the preprocessing function to the 'email' column\n",
        "print(data.head())\n"
      ],
      "metadata": {
        "colab": {
          "base_uri": "https://localhost:8080/"
        },
        "id": "-KLIHi1_gzes",
        "outputId": "ed3215ee-cae8-4349-f61f-1d7cf7f6cc8f"
      },
      "execution_count": 29,
      "outputs": [
        {
          "output_type": "stream",
          "name": "stderr",
          "text": [
            "[nltk_data] Downloading package punkt to /root/nltk_data...\n",
            "[nltk_data]   Package punkt is already up-to-date!\n",
            "[nltk_data] Downloading package stopwords to /root/nltk_data...\n",
            "[nltk_data]   Package stopwords is already up-to-date!\n"
          ]
        },
        {
          "output_type": "stream",
          "name": "stdout",
          "text": [
            "                                               email  label\n",
            "0  upgrad premium plan exclu access premium conte...      0\n",
            "1         happi holiday team wish joy prosper season      0\n",
            "2         hire check career opportun join dynam team      0\n",
            "3    amazon account lock click verifi account inform      1\n",
            "4   opinion matter take survey help us enhanc experi      0\n"
          ]
        }
      ]
    },
    {
      "cell_type": "code",
      "source": [
        "vectorizer = TfidfVectorizer()#TF-IDF Vectorizer\n",
        "features = vectorizer.fit_transform(data['email'])# Fit and transform the 'email' column"
      ],
      "metadata": {
        "id": "s8ndC6t3jgsn"
      },
      "execution_count": 30,
      "outputs": []
    },
    {
      "cell_type": "code",
      "source": [
        "X = features  # Features (TF-IDF vectors)\n",
        "y = data['label']  # Labels (Ham or Spam)\n",
        "X_train, X_test, y_train, y_test = train_test_split(X, y, test_size=0.2, random_state=42)#training and test sets\n"
      ],
      "metadata": {
        "id": "4YQgBbDkllJM"
      },
      "execution_count": 20,
      "outputs": []
    },
    {
      "cell_type": "code",
      "source": [
        "\n",
        "\n",
        "#Logistic Regression model\n",
        "model = LogisticRegression()\n",
        "#Train the model with training data\n",
        "model.fit(X_train, y_train)\n",
        "predictions = model.predict(X_test)#unseen data x_test\n",
        "#model evaluation\n",
        "print(classification_report(y_test, predictions))\n"
      ],
      "metadata": {
        "colab": {
          "base_uri": "https://localhost:8080/"
        },
        "id": "ammrTYOEoZnO",
        "outputId": "cd65241c-25e4-4f1d-d528-64be8a504deb"
      },
      "execution_count": 31,
      "outputs": [
        {
          "output_type": "stream",
          "name": "stdout",
          "text": [
            "              precision    recall  f1-score   support\n",
            "\n",
            "           0       0.88      1.00      0.93        14\n",
            "           1       1.00      0.91      0.95        22\n",
            "\n",
            "    accuracy                           0.94        36\n",
            "   macro avg       0.94      0.95      0.94        36\n",
            "weighted avg       0.95      0.94      0.94        36\n",
            "\n"
          ]
        }
      ]
    },
    {
      "cell_type": "markdown",
      "source": [
        "model performed quite well with an accuracy of 94%. It was perfect in identifying ham emails and very good (91% recall) at catching spam. The F1 scores are also quite high, indicating a good balance between precision and recall."
      ],
      "metadata": {
        "id": "FxeCrmNu2fTY"
      }
    },
    {
      "cell_type": "code",
      "source": [
        "# Print the confusion matrix\n",
        "cm = confusion_matrix(y_test, predictions)\n",
        "print(\"Confusion Matrix:\\n\", cm)\n",
        "# For better visualization,use seaborn to plot the confusion matrix\n",
        "plt.figure(figsize=(10,7))\n",
        "sns.heatmap(cm, annot=True, fmt='d')\n",
        "plt.xlabel('Predicted')\n",
        "plt.ylabel('Truth')\n"
      ],
      "metadata": {
        "colab": {
          "base_uri": "https://localhost:8080/",
          "height": 693
        },
        "id": "JP4eFjV56WCN",
        "outputId": "48e1ed04-c463-4357-eb6f-d5be1e41dada"
      },
      "execution_count": 32,
      "outputs": [
        {
          "output_type": "stream",
          "name": "stdout",
          "text": [
            "Confusion Matrix:\n",
            " [[14  0]\n",
            " [ 2 20]]\n"
          ]
        },
        {
          "output_type": "execute_result",
          "data": {
            "text/plain": [
              "Text(95.72222222222221, 0.5, 'Truth')"
            ]
          },
          "metadata": {},
          "execution_count": 32
        },
        {
          "output_type": "display_data",
          "data": {
            "text/plain": [
              "<Figure size 1000x700 with 2 Axes>"
            ],
            "image/png": "[encoded data removed]"
          },
          "metadata": {}
        }
      ]
    },
    {
      "cell_type": "code",
      "source": [
        "\n"
      ],
      "metadata": {
        "id": "IFZhqNlzTCRE"
      },
      "execution_count": 13,
      "outputs": []
    }
  ]
}